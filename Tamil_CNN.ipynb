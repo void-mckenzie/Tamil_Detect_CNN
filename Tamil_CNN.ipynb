{
 "cells": [
  {
   "cell_type": "markdown",
   "metadata": {},
   "source": [
    "<h1>Tamil Character Recognition using CNN</h1>"
   ]
  },
  {
   "cell_type": "markdown",
   "metadata": {},
   "source": [
    "This project used CNN to recognize tamil vowels and consonants. The Tamil Character dataset from HP Labs was used for this project. Out of the 155 classes, 35 were chosen for this task. A future version of this project will be handling all the 155 classes. Around 550+ images were present in each of the classes."
   ]
  },
  {
   "cell_type": "markdown",
   "metadata": {},
   "source": [
    "<h3> Sample Images from the Dataset: </h3>\n",
    "    The images are of different sizes, and are of different formats (tiff,png). The images are converted to grayscale, resized (48,42) and rescaled before being fed into the model. Additionally, the train images are augmented by randomly shearing and zooming them by a factor of 0.2]\n",
    "    The data was split into training, validation and testing data (80%,10%,10%)."
   ]
  },
  {
   "cell_type": "code",
   "execution_count": 31,
   "metadata": {},
   "outputs": [
    {
     "data": {
      "image/png": "[encoded data removed]",
      "text/plain": [
       "<Figure size 1440x144 with 6 Axes>"
      ]
     },
     "metadata": {
      "needs_background": "light"
     },
     "output_type": "display_data"
    }
   ],
   "source": [
    "import matplotlib.pyplot as plt\n",
    "import matplotlib.image as mpimg\n",
    "%matplotlib inline\n",
    "fig=plt.figure(figsize = (20,2))\n",
    "for i in range(6):\n",
    "        a=fig.add_subplot(1,6,i+1)\n",
    "        image = plt.imread(f'sample_images\\\\samp_{i}.tiff')\n",
    "        plt.imshow(image,cmap='Greys_r')\n",
    "        plt.axis('off')"
   ]
  },
  {
   "cell_type": "markdown",
   "metadata": {},
   "source": [
    "<h2>The Model's Architecture</h2>\n",
    "The block used in this project consists of a Convolution layer, followed by a Maxpooling layer, which is further followed by a Dropout layer. Initially, Batch Normalization was a part of the block. However, due to it's inferior performance on batches with predominantly one class of images, it was left out.\n",
    "3 such blocks are used, with varying number of filters and kernel sizes. The L2 regularization used in the first 2 convolution layers and the presence of Dropout layers increased the generalization of the model. Additionally, the Leaky ReLU activation function was chosen to overcome the problem of \"dead ReLU\".\n",
    "\n",
    "Nesterov Adam was used as the optimizer and  categorical cross entropy loss was chosen as the loss function. "
   ]
  },
  {
   "cell_type": "code",
   "execution_count": 1,
   "metadata": {},
   "outputs": [
    {
     "name": "stderr",
     "output_type": "stream",
     "text": [
      "Using TensorFlow backend.\n"
     ]
    }
   ],
   "source": [
    "from keras.models import Sequential\n",
    "from keras.layers import Conv2D\n",
    "from keras.layers import MaxPooling2D\n",
    "from keras.layers import Flatten\n",
    "from keras.layers import Dense\n",
    "from keras.layers import BatchNormalization\n",
    "from keras.callbacks import ModelCheckpoint\n",
    "from keras.layers import Dropout\n",
    "from keras.layers import LeakyReLU\n",
    "from keras import regularizers\n",
    "from keras.preprocessing.image import ImageDataGenerator\n",
    "import numpy as np\n",
    "import tensorflow as tf"
   ]
  },
  {
   "cell_type": "code",
   "execution_count": 2,
   "metadata": {},
   "outputs": [
    {
     "name": "stdout",
     "output_type": "stream",
     "text": [
      "Model: \"sequential_1\"\n",
      "_________________________________________________________________\n",
      "Layer (type)                 Output Shape              Param #   \n",
      "=================================================================\n",
      "conv2d_1 (Conv2D)            (None, 44, 38, 16)        416       \n",
      "_________________________________________________________________\n",
      "max_pooling2d_1 (MaxPooling2 (None, 22, 19, 16)        0         \n",
      "_________________________________________________________________\n",
      "dropout_1 (Dropout)          (None, 22, 19, 16)        0         \n",
      "_________________________________________________________________\n",
      "conv2d_2 (Conv2D)            (None, 20, 17, 16)        2320      \n",
      "_________________________________________________________________\n",
      "leaky_re_lu_1 (LeakyReLU)    (None, 20, 17, 16)        0         \n",
      "_________________________________________________________________\n",
      "max_pooling2d_2 (MaxPooling2 (None, 10, 8, 16)         0         \n",
      "_________________________________________________________________\n",
      "dropout_2 (Dropout)          (None, 10, 8, 16)         0         \n",
      "_________________________________________________________________\n",
      "conv2d_3 (Conv2D)            (None, 8, 6, 64)          9280      \n",
      "_________________________________________________________________\n",
      "leaky_re_lu_2 (LeakyReLU)    (None, 8, 6, 64)          0         \n",
      "_________________________________________________________________\n",
      "max_pooling2d_3 (MaxPooling2 (None, 4, 3, 64)          0         \n",
      "_________________________________________________________________\n",
      "dropout_3 (Dropout)          (None, 4, 3, 64)          0         \n",
      "_________________________________________________________________\n",
      "flatten_1 (Flatten)          (None, 768)               0         \n",
      "_________________________________________________________________\n",
      "dense_1 (Dense)              (None, 512)               393728    \n",
      "_________________________________________________________________\n",
      "leaky_re_lu_3 (LeakyReLU)    (None, 512)               0         \n",
      "_________________________________________________________________\n",
      "dense_2 (Dense)              (None, 35)                17955     \n",
      "=================================================================\n",
      "Total params: 423,699\n",
      "Trainable params: 423,699\n",
      "Non-trainable params: 0\n",
      "_________________________________________________________________\n"
     ]
    }
   ],
   "source": [
    "tam_det = Sequential()\n",
    "\n",
    "tam_det.add(Conv2D(filters=16,kernel_size=(5,5),strides=1,input_shape=(48,42,1),activation=\"tanh\",kernel_regularizer=regularizers.l2(0.01)))\n",
    "tam_det.add(MaxPooling2D(pool_size=(2,2)))\n",
    "#tam_det.add(BatchNormalization())\n",
    "tam_det.add(Dropout(0.3))\n",
    "tam_det.add(Conv2D(filters=16,kernel_size=(3,3),strides=1,kernel_regularizer=regularizers.l2(0.01)))\n",
    "tam_det.add(LeakyReLU(alpha=0.1))\n",
    "tam_det.add(MaxPooling2D(pool_size=(2,2)))\n",
    "#tam_det.add(BatchNormalization())\n",
    "tam_det.add(Dropout(0.3))\n",
    "tam_det.add(Conv2D(filters=64,kernel_size=(3,3),strides=1))\n",
    "tam_det.add(LeakyReLU(alpha=0.1))\n",
    "tam_det.add(MaxPooling2D(pool_size=(2,2)))\n",
    "#tam_det.add(BatchNormalization())\n",
    "tam_det.add(Dropout(0.2))\n",
    "tam_det.add(Flatten())\n",
    "tam_det.add(Dense(units=512))\n",
    "tam_det.add(LeakyReLU(alpha=0.1))\n",
    "tam_det.add(Dense(units=35,activation='softmax'))\n",
    "tam_det.compile(optimizer='nadam', loss = 'categorical_crossentropy', metrics=['accuracy'] )\n",
    "tam_det.summary()"
   ]
  },
  {
   "cell_type": "markdown",
   "metadata": {},
   "source": [
    "<h2>Training the Model</h2>\n",
    "The model with the least validation loss was saved and loaded after the completion of the training phase (20 epochs)."
   ]
  },
  {
   "cell_type": "code",
   "execution_count": 3,
   "metadata": {},
   "outputs": [],
   "source": [
    "filepath=\"saved_models\\\\without_batch_norm_v2.h5\"\n",
    "\n",
    "checkpoint = ModelCheckpoint(filepath, monitor='val_loss', verbose=1,save_best_only=True, mode='auto', period=1)\n",
    "\n",
    "callbacks_list = [checkpoint]"
   ]
  },
  {
   "cell_type": "code",
   "execution_count": 14,
   "metadata": {},
   "outputs": [
    {
     "name": "stdout",
     "output_type": "stream",
     "text": [
      "Found 15126 images belonging to 35 classes.\n",
      "Found 1879 images belonging to 35 classes.\n"
     ]
    }
   ],
   "source": [
    "train_datagen = ImageDataGenerator(\n",
    "        rescale=1./255,\n",
    "        shear_range=0.2,\n",
    "        zoom_range=0.2,\n",
    "        horizontal_flip=False)\n",
    "\n",
    "val_datagen = ImageDataGenerator(\n",
    "    rescale=1./255,\n",
    "    horizontal_flip=False)\n",
    "\n",
    "training_set = train_datagen.flow_from_directory(\n",
    "        'data\\\\train',\n",
    "        target_size=(48, 42),\n",
    "        batch_size=32,\n",
    "        color_mode='grayscale',\n",
    "        class_mode='categorical')\n",
    "\n",
    "val_set = val_datagen.flow_from_directory(\n",
    "        'data\\\\val',\n",
    "        target_size=(48,42),\n",
    "        batch_size=32,\n",
    "        color_mode='grayscale',\n",
    "        class_mode='categorical')"
   ]
  },
  {
   "cell_type": "code",
   "execution_count": 5,
   "metadata": {},
   "outputs": [
    {
     "name": "stdout",
     "output_type": "stream",
     "text": [
      "Epoch 1/20\n",
      "473/472 [==============================] - 12s 26ms/step - loss: 1.7804 - accuracy: 0.5124 - val_loss: 0.6279 - val_accuracy: 0.8590\n",
      "\n",
      "Epoch 00001: val_loss improved from inf to 0.62794, saving model to saved_models\\without_batch_norm_v2.h5\n",
      "Epoch 2/20\n",
      "473/472 [==============================] - 10s 22ms/step - loss: 0.6974 - accuracy: 0.7954 - val_loss: 0.3644 - val_accuracy: 0.8893\n",
      "\n",
      "Epoch 00002: val_loss improved from 0.62794 to 0.36441, saving model to saved_models\\without_batch_norm_v2.h5\n",
      "Epoch 3/20\n",
      "473/472 [==============================] - 10s 22ms/step - loss: 0.5521 - accuracy: 0.8450 - val_loss: 0.2834 - val_accuracy: 0.9143\n",
      "\n",
      "Epoch 00003: val_loss improved from 0.36441 to 0.28337, saving model to saved_models\\without_batch_norm_v2.h5\n",
      "Epoch 4/20\n",
      "473/472 [==============================] - 10s 22ms/step - loss: 0.4700 - accuracy: 0.8641 - val_loss: 0.4509 - val_accuracy: 0.9159\n",
      "\n",
      "Epoch 00004: val_loss did not improve from 0.28337\n",
      "Epoch 5/20\n",
      "473/472 [==============================] - 10s 22ms/step - loss: 0.4210 - accuracy: 0.8799 - val_loss: 0.3748 - val_accuracy: 0.9212\n",
      "\n",
      "Epoch 00005: val_loss did not improve from 0.28337\n",
      "Epoch 6/20\n",
      "473/472 [==============================] - 10s 22ms/step - loss: 0.4007 - accuracy: 0.8870 - val_loss: 0.2873 - val_accuracy: 0.9324\n",
      "\n",
      "Epoch 00006: val_loss did not improve from 0.28337\n",
      "Epoch 7/20\n",
      "473/472 [==============================] - 10s 22ms/step - loss: 0.3586 - accuracy: 0.8977 - val_loss: 0.1840 - val_accuracy: 0.9452\n",
      "\n",
      "Epoch 00007: val_loss improved from 0.28337 to 0.18405, saving model to saved_models\\without_batch_norm_v2.h5\n",
      "Epoch 8/20\n",
      "473/472 [==============================] - 10s 22ms/step - loss: 0.3352 - accuracy: 0.9070 - val_loss: 0.1229 - val_accuracy: 0.9367\n",
      "\n",
      "Epoch 00008: val_loss improved from 0.18405 to 0.12291, saving model to saved_models\\without_batch_norm_v2.h5\n",
      "Epoch 9/20\n",
      "473/472 [==============================] - 10s 22ms/step - loss: 0.7084 - accuracy: 0.8733 - val_loss: 0.3336 - val_accuracy: 0.9005\n",
      "\n",
      "Epoch 00009: val_loss did not improve from 0.12291\n",
      "Epoch 10/20\n",
      "473/472 [==============================] - 10s 22ms/step - loss: 0.4247 - accuracy: 0.8795 - val_loss: 0.1288 - val_accuracy: 0.9505\n",
      "\n",
      "Epoch 00010: val_loss did not improve from 0.12291\n",
      "Epoch 11/20\n",
      "473/472 [==============================] - 10s 22ms/step - loss: 0.3074 - accuracy: 0.9156 - val_loss: 0.2932 - val_accuracy: 0.9441\n",
      "\n",
      "Epoch 00011: val_loss did not improve from 0.12291\n",
      "Epoch 12/20\n",
      "473/472 [==============================] - 10s 22ms/step - loss: 0.2829 - accuracy: 0.9217 - val_loss: 0.1727 - val_accuracy: 0.9601\n",
      "\n",
      "Epoch 00012: val_loss did not improve from 0.12291\n",
      "Epoch 13/20\n",
      "473/472 [==============================] - 10s 22ms/step - loss: 0.2641 - accuracy: 0.9288 - val_loss: 0.1170 - val_accuracy: 0.9452\n",
      "\n",
      "Epoch 00013: val_loss improved from 0.12291 to 0.11697, saving model to saved_models\\without_batch_norm_v2.h5\n",
      "Epoch 14/20\n",
      "473/472 [==============================] - 10s 22ms/step - loss: 0.2592 - accuracy: 0.9254 - val_loss: 0.1414 - val_accuracy: 0.9516\n",
      "\n",
      "Epoch 00014: val_loss did not improve from 0.11697\n",
      "Epoch 15/20\n",
      "473/472 [==============================] - 10s 22ms/step - loss: 0.2525 - accuracy: 0.9285 - val_loss: 0.0497 - val_accuracy: 0.9596\n",
      "\n",
      "Epoch 00015: val_loss improved from 0.11697 to 0.04966, saving model to saved_models\\without_batch_norm_v2.h5\n",
      "Epoch 16/20\n",
      "473/472 [==============================] - 10s 22ms/step - loss: 0.2583 - accuracy: 0.9266 - val_loss: 0.1022 - val_accuracy: 0.9478\n",
      "\n",
      "Epoch 00016: val_loss did not improve from 0.04966\n",
      "Epoch 17/20\n",
      "473/472 [==============================] - 11s 22ms/step - loss: 0.2509 - accuracy: 0.9299 - val_loss: 0.1846 - val_accuracy: 0.9510\n",
      "\n",
      "Epoch 00017: val_loss did not improve from 0.04966\n",
      "Epoch 18/20\n",
      "473/472 [==============================] - 10s 22ms/step - loss: 0.2540 - accuracy: 0.9299 - val_loss: 0.2704 - val_accuracy: 0.9649\n",
      "\n",
      "Epoch 00018: val_loss did not improve from 0.04966\n",
      "Epoch 19/20\n",
      "473/472 [==============================] - 10s 22ms/step - loss: 0.2490 - accuracy: 0.9303 - val_loss: 0.1443 - val_accuracy: 0.9569\n",
      "\n",
      "Epoch 00019: val_loss did not improve from 0.04966\n",
      "Epoch 20/20\n",
      "473/472 [==============================] - 10s 22ms/step - loss: 0.6480 - accuracy: 0.8875 - val_loss: 0.5648 - val_accuracy: 0.9377\n",
      "\n",
      "Epoch 00020: val_loss did not improve from 0.04966\n"
     ]
    }
   ],
   "source": [
    "history=tam_det.fit_generator(\n",
    "        training_set,\n",
    "        steps_per_epoch=(15126/32),\n",
    "        epochs=20,\n",
    "        validation_data=val_set,\n",
    "        validation_steps=(1879/32), callbacks=callbacks_list)"
   ]
  },
  {
   "cell_type": "code",
   "execution_count": 7,
   "metadata": {},
   "outputs": [
    {
     "data": {
      "image/png": "[encoded data removed]",
      "text/plain": [
       "<Figure size 432x288 with 1 Axes>"
      ]
     },
     "metadata": {
      "needs_background": "light"
     },
     "output_type": "display_data"
    },
    {
     "data": {
      "image/png": "[encoded data removed]",
      "text/plain": [
       "<Figure size 432x288 with 1 Axes>"
      ]
     },
     "metadata": {
      "needs_background": "light"
     },
     "output_type": "display_data"
    }
   ],
   "source": [
    "accuracy = history.history['accuracy']\n",
    "val_accuracy = history.history['val_accuracy']\n",
    "loss = history.history['loss']\n",
    "val_loss = history.history['val_loss']\n",
    "epochs = range(len(accuracy))\n",
    "plt.plot(epochs, accuracy, 'bo', label='Training accuracy')\n",
    "plt.plot(epochs, val_accuracy, 'b', label='Validation accuracy')\n",
    "plt.title('Training and validation accuracy')\n",
    "plt.legend()\n",
    "plt.figure()\n",
    "plt.plot(epochs, loss, 'bo', label='Training loss')\n",
    "plt.plot(epochs, val_loss, 'b', label='Validation loss')\n",
    "plt.title('Training and validation loss')\n",
    "plt.legend()\n",
    "plt.show()"
   ]
  },
  {
   "cell_type": "code",
   "execution_count": 8,
   "metadata": {},
   "outputs": [],
   "source": [
    "from keras.models import load_model\n",
    "tamil_det=load_model(filepath)"
   ]
  },
  {
   "cell_type": "markdown",
   "metadata": {},
   "source": [
    "<h2>Performance on the Test set:</h2>\n",
    "    The model was able to give an accuracy of 94.95% on the test data with high F1 Scores."
   ]
  },
  {
   "cell_type": "code",
   "execution_count": 35,
   "metadata": {},
   "outputs": [
    {
     "name": "stdout",
     "output_type": "stream",
     "text": [
      "Found 1922 images belonging to 35 classes.\n",
      "61/61 [==============================] - 1s 13ms/step\n",
      "\n",
      "Accuracy:  0.9495317339897156\n",
      "\n",
      "Precision-Recall-F1-Score report:\n",
      "              precision    recall  f1-score   support\n",
      "\n",
      "           0       0.98      0.93      0.96        58\n",
      "           1       0.98      0.93      0.95        56\n",
      "          10       0.81      0.80      0.80        54\n",
      "          11       1.00      1.00      1.00        57\n",
      "          12       0.95      0.95      0.95        57\n",
      "          13       1.00      1.00      1.00        54\n",
      "          14       0.95      0.95      0.95        56\n",
      "          15       0.93      0.96      0.95        55\n",
      "          16       0.93      0.98      0.96        57\n",
      "          17       0.98      0.93      0.95        57\n",
      "          18       0.90      0.96      0.93        56\n",
      "          19       0.88      0.91      0.89        54\n",
      "           2       0.96      0.95      0.96        57\n",
      "          20       0.96      0.96      0.96        57\n",
      "          21       1.00      0.98      0.99        57\n",
      "          22       1.00      0.98      0.99        57\n",
      "          23       1.00      0.96      0.98        56\n",
      "          24       0.90      0.98      0.94        57\n",
      "          25       1.00      0.91      0.95        56\n",
      "          26       0.96      0.98      0.97        55\n",
      "          27       0.96      0.96      0.96        55\n",
      "          28       0.88      0.93      0.90        56\n",
      "          29       0.89      0.93      0.91        54\n",
      "           3       0.93      1.00      0.96        55\n",
      "          30       0.97      1.00      0.98        57\n",
      "          31       0.98      0.96      0.97        52\n",
      "          32       0.86      0.86      0.86        28\n",
      "          33       0.98      0.96      0.97        55\n",
      "          34       1.00      0.98      0.99        51\n",
      "           4       0.98      0.98      0.98        57\n",
      "           5       0.98      0.98      0.98        57\n",
      "           6       0.98      0.91      0.94        55\n",
      "           7       1.00      0.95      0.97        57\n",
      "           8       0.91      0.95      0.93        56\n",
      "           9       0.81      0.81      0.81        54\n",
      "\n",
      "    accuracy                           0.95      1922\n",
      "   macro avg       0.95      0.95      0.95      1922\n",
      "weighted avg       0.95      0.95      0.95      1922\n",
      "\n"
     ]
    }
   ],
   "source": [
    "test_generator = ImageDataGenerator(rescale=1./255,horizontal_flip=False)\n",
    "test_data_generator = test_generator.flow_from_directory(\n",
    "    \"data\\\\test\", # Put your path here\n",
    "     target_size=(48, 42),\n",
    "    batch_size=32,\n",
    "    color_mode='grayscale',\n",
    "    seed=127,\n",
    "    class_mode='categorical',\n",
    "    shuffle=False)\n",
    "\n",
    "scores=tamil_det.evaluate(test_data_generator)\n",
    "print(\"\\nAccuracy: \",scores[1])\n",
    "predictions = tamil_det.predict_generator(test_data_generator)\n",
    "# Get most likely class\n",
    "predicted_classes = np.argmax(predictions, axis=1)\n",
    "predicted_classes\n",
    "\n",
    "true_classes = test_data_generator.classes\n",
    "class_labels = list(test_data_generator.class_indices.keys())  \n",
    "\n",
    "import sklearn.metrics as metrics\n",
    "report = metrics.classification_report(true_classes, predicted_classes, target_names=class_labels)\n",
    "print(\"\\nPrecision-Recall-F1-Score report:\")\n",
    "print(report)"
   ]
  }
 ],
 "metadata": {
  "kernelspec": {
   "display_name": "Python 3",
   "language": "python",
   "name": "python3"
  },
  "language_info": {
   "codemirror_mode": {
    "name": "ipython",
    "version": 3
   },
   "file_extension": ".py",
   "mimetype": "text/x-python",
   "name": "python",
   "nbconvert_exporter": "python",
   "pygments_lexer": "ipython3",
   "version": "3.6.7"
  }
 },
 "nbformat": 4,
 "nbformat_minor": 4
}
